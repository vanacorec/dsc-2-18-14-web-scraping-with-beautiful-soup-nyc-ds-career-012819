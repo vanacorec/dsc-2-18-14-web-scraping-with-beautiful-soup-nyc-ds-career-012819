{
 "cells": [
  {
   "cell_type": "code",
   "execution_count": null,
   "metadata": {},
   "outputs": [],
   "source": [
    "\n",
    "# Given 3 int values, a b c, return their sum. \n",
    "# However, if any of the values is a teen -- in the range 13..19 inclusive -- then \n",
    "# that value counts as 0, except 15 and 16 do not count as a teens. \n",
    "# Write a separate helper \"def fix_teen(n):\"that takes in an int value and returns \n",
    "#that value fixed for the teen rule. In this way, you avoid repeating the teen code 3 \n",
    "# times (i.e. \"decomposition\"). \n",
    "#Define the helper below and at the same indent level as the main no_teen_sum().\n",
    "\n",
    "\n",
    "# no_teen_sum(1, 2, 3) → 6\n",
    "# no_teen_sum(2, 13, 1) → 3\n",
    "# no_teen_sum(2, 1, 14) → 3 \n",
    "\n",
    "\n",
    "\n",
    "def no_teen_sum3(a, b, c):\n",
    "    return fix_teen(a) + fix_teen(b) + fix_teen(c)\n",
    "\n",
    "\n",
    "def no_teen_sum2(*args):\n",
    "    return sum(list(map(lambda x: fix_teen(x), list(args))))\n",
    "\n",
    "def no_teen_sum(*args):\n",
    "    return sum(filter(lambda x : x not in [13,14,17,18,19], args))\n",
    "\n",
    "\n",
    "def fix_teen3(n):\n",
    "    return  (n < 13  or n > 19) * n\n",
    "\n",
    "\n",
    "no_teen_sum(1, 15, 300)\n",
    "    "
   ]
  },
  {
   "cell_type": "markdown",
   "metadata": {},
   "source": [
    "# Web Scraping with Beautiful Soup"
   ]
  },
  {
   "cell_type": "markdown",
   "metadata": {},
   "source": [
    "## Introduction\n",
    "\n",
    "The web is full of great datasets, but not all of them are readily available for download and analysis.\n",
    "Today we'll take a look at how you can surf the web robotically, saving the relevant information into storage containers as you go!\n",
    "\n",
    "We'll be taking a look at two main packages:\n",
    "* Beautiful Soup\n",
    "* Pandas\n",
    "\n",
    "Our general approach will be:\n",
    "* pick a domain/set of web pages to scrape\n",
    "* investigate those web pages using the developers tools from your web browser (such as Chrome or Firefox)\n",
    "* write rules to select the relevant objects from the DOM\n",
    "* parse information from those objects and store it in a container"
   ]
  },
  {
   "cell_type": "markdown",
   "metadata": {},
   "source": [
    "## Objectives\n",
    "You will be able to:\n",
    "* Scrape static webpages\n",
    "* Select specific elements from the DOM"
   ]
  },
  {
   "cell_type": "markdown",
   "metadata": {},
   "source": [
    "## Web Page Introduction: **The DOM + HTML**"
   ]
  },
  {
   "cell_type": "markdown",
   "metadata": {},
   "source": [
    "Before we start scraping, having a little background about how web pages are formatted is very helpful.\n",
    "\n",
    "\"The Document Object Model (DOM) is a programming interface for HTML and XML documents. It represents the page so that programs can change the document structure, style, and content. The DOM represents the document as nodes and objects. That way, programming languages can connect to the page.\" Amongst other things, this allows programming languages such as javascript to interactively change the page and HTML!  \n",
    "\n",
    "What you'll see is the DOM and HTML create a hierarchy of elements. This structure and the underlying elements can be naviagated similar to a family tree which is one of Beautiful Soups main mechanisms for naviagation; once you select a specific element within a page you can then navigate to successive elements using methods such as sibling, parent or descendents.\n",
    "  \n",
    "To learn more about the DOM see:  \n",
    "https://developer.mozilla.org/en-US/docs/Web/API/Document_Object_Model/Introduction"
   ]
  },
  {
   "cell_type": "markdown",
   "metadata": {},
   "source": [
    "![](./images/DOM-model.svg.png)"
   ]
  },
  {
   "cell_type": "markdown",
   "metadata": {},
   "source": [
    "## Beautiful Soup   \n",
    "https://www.crummy.com/software/BeautifulSoup/bs4/doc/   \n",
    "\n",
    "Beautiful Soup is a Python library designed for quick turnaround projects like screen-scraping. Three features make it powerful:\n",
    "\n",
    "* Beautiful Soup provides a few simple methods and Pythonic idioms for navigating, searching, and modifying a parse tree: a toolkit for dissecting a document and extracting what you need. It doesn't take much code to write an application\n",
    "\n",
    "* Beautiful Soup automatically converts incoming documents to Unicode and outgoing documents to UTF-8. You don't have to think about encodings, unless the document doesn't specify an encoding and Beautiful Soup can't detect one. Then you just have to specify the original encoding.\n",
    "\n",
    "* Beautiful Soup sits on top of popular Python parsers like lxml and html5lib, allowing you to try out different parsing strategies or trade speed for flexibility.\n",
    "\n",
    "Beautiful Soup parses anything you give it, and does the tree traversal stuff for you. You can tell it \"Find all the links\", or \"Find all the links of class externalLink\", or \"Find all the links whose urls match \"foo.com\", or \"Find the table heading that's got bold text, then give me that text.\""
   ]
  },
  {
   "cell_type": "code",
   "execution_count": 2,
   "metadata": {},
   "outputs": [
    {
     "name": "stdout",
     "output_type": "stream",
     "text": [
      "Collecting bs4\n",
      "  Downloading https://files.pythonhosted.org/packages/10/ed/7e8b97591f6f456174139ec089c769f89a94a1a4025fe967691de971f314/bs4-0.0.1.tar.gz\n",
      "Collecting beautifulsoup4 (from bs4)\n",
      "\u001b[?25l  Downloading https://files.pythonhosted.org/packages/1d/5d/3260694a59df0ec52f8b4883f5d23b130bc237602a1411fa670eae12351e/beautifulsoup4-4.7.1-py3-none-any.whl (94kB)\n",
      "\u001b[K    100% |████████████████████████████████| 102kB 20.0MB/s a 0:00:01\n",
      "\u001b[?25hCollecting soupsieve>=1.2 (from beautifulsoup4->bs4)\n",
      "  Downloading https://files.pythonhosted.org/packages/bf/b3/2473abf05c4950c6a829ed5dcbc40d8b56d4351d15d6939c8ffb7c6b1a14/soupsieve-1.7.3-py2.py3-none-any.whl\n",
      "Building wheels for collected packages: bs4\n",
      "  Running setup.py bdist_wheel for bs4 ... \u001b[?25ldone\n",
      "\u001b[?25h  Stored in directory: /home/steadfast-logger-3843/.cache/pip/wheels/a0/b0/b2/4f80b9456b87abedbc0bf2d52235414c3467d8889be38dd472\n",
      "Successfully built bs4\n",
      "Installing collected packages: soupsieve, beautifulsoup4, bs4\n",
      "Successfully installed beautifulsoup4-4.7.1 bs4-0.0.1 soupsieve-1.7.3\n",
      "\u001b[33mYou are using pip version 10.0.1, however version 19.0.1 is available.\n",
      "You should consider upgrading via the 'pip install --upgrade pip' command.\u001b[0m\n"
     ]
    }
   ],
   "source": [
    "!pip install bs4"
   ]
  },
  {
   "cell_type": "code",
   "execution_count": 3,
   "metadata": {},
   "outputs": [],
   "source": [
    "from bs4 import BeautifulSoup\n",
    "import requests\n",
    "import re\n",
    "import pandas as pd"
   ]
  },
  {
   "cell_type": "markdown",
   "metadata": {},
   "source": [
    "## An example webpage"
   ]
  },
  {
   "cell_type": "code",
   "execution_count": 4,
   "metadata": {},
   "outputs": [
    {
     "name": "stdout",
     "output_type": "stream",
     "text": [
      "<html>\n",
      " <head>\n",
      "  <title>\n",
      "   The Dormouse's story\n",
      "  </title>\n",
      " </head>\n",
      " <body>\n",
      "  <p class=\"title\">\n",
      "   <b>\n",
      "    The Dormouse's story\n",
      "   </b>\n",
      "  </p>\n",
      "  <p class=\"story\">\n",
      "   Once upon a time there were three little sisters; and their names were\n",
      "   <a class=\"sister\" href=\"http://example.com/elsie\" id=\"link1\">\n",
      "    Elsie\n",
      "   </a>\n",
      "   ,\n",
      "   <a class=\"sister\" href=\"http://example.com/lacie\" id=\"link2\">\n",
      "    Lacie\n",
      "   </a>\n",
      "   and\n",
      "   <a class=\"sister\" href=\"http://example.com/tillie\" id=\"link2\">\n",
      "    Tillie\n",
      "   </a>\n",
      "   ; and they lived at the bottom of a well.\n",
      "  </p>\n",
      "  <p class=\"story\">\n",
      "   ...\n",
      "  </p>\n",
      " </body>\n",
      "</html>\n"
     ]
    }
   ],
   "source": [
    "with open('sample_page.html') as f:\n",
    "    soup = BeautifulSoup(f, 'html.parser')\n",
    "print(soup.prettify())"
   ]
  },
  {
   "cell_type": "markdown",
   "metadata": {},
   "source": [
    "#### A few introductory Beautiful Soup Selections..."
   ]
  },
  {
   "cell_type": "code",
   "execution_count": 5,
   "metadata": {},
   "outputs": [
    {
     "name": "stdout",
     "output_type": "stream",
     "text": [
      "<title>\n",
      "    The Dormouse's story\n",
      "   </title>\n",
      "title\n",
      "\n",
      "    The Dormouse's story\n",
      "   \n",
      "head\n",
      "<p class=\"title\">\n",
      "<b>\n",
      "     The Dormouse's story\n",
      "    </b>\n",
      "</p>\n",
      "['title']\n",
      "<a class=\"sister\" href=\"http://example.com/elsie\" id=\"link1\">\n",
      "     Elsie\n",
      "    </a>\n",
      "[<a class=\"sister\" href=\"http://example.com/elsie\" id=\"link1\">\n",
      "     Elsie\n",
      "    </a>, <a class=\"sister\" href=\"http://example.com/lacie\" id=\"link2\">\n",
      "     Lacie\n",
      "    </a>, <a class=\"sister\" href=\"http://example.com/tillie\" id=\"link2\">\n",
      "     Tillie\n",
      "    </a>]\n",
      "None\n"
     ]
    }
   ],
   "source": [
    "print(soup.title)\n",
    "# <title>The Dormouse's story</title>\n",
    "\n",
    "print(soup.title.name)\n",
    "# u'title'\n",
    "\n",
    "print(soup.title.string)\n",
    "# u'The Dormouse's story'\n",
    "\n",
    "print(soup.title.parent.name)\n",
    "# u'head'\n",
    "\n",
    "print(soup.p)\n",
    "# <p class=\"title\"><b>The Dormouse's story</b></p>\n",
    "\n",
    "print(soup.p['class'])\n",
    "# u'title'\n",
    "\n",
    "print(soup.a)\n",
    "# <a class=\"sister\" href=\"http://example.com/elsie\" id=\"link1\">Elsie</a>\n",
    "\n",
    "print(soup.find_all('a'))\n",
    "# [<a class=\"sister\" href=\"http://example.com/elsie\" id=\"link1\">Elsie</a>,\n",
    "#  <a class=\"sister\" href=\"http://example.com/lacie\" id=\"link2\">Lacie</a>,\n",
    "#  <a class=\"sister\" href=\"http://example.com/tillie\" id=\"link3\">Tillie</a>]\n",
    "\n",
    "print(soup.find(id=\"link3\"))\n",
    "# <a class=\"sister\" href=\"http://example.com/tillie\" id=\"link3\">Tillie</a>"
   ]
  },
  {
   "cell_type": "markdown",
   "metadata": {},
   "source": [
    "## Grabbing a Web Page"
   ]
  },
  {
   "cell_type": "code",
   "execution_count": 9,
   "metadata": {},
   "outputs": [],
   "source": [
    "html_page = requests.get('https://www.azlyrics.com/') #Make a get request to retrieve the page\n",
    "soup = BeautifulSoup(html_page.content, 'html.parser') #Pass the page contents to beautiful soup for parsing"
   ]
  },
  {
   "cell_type": "code",
   "execution_count": 10,
   "metadata": {},
   "outputs": [
    {
     "name": "stdout",
     "output_type": "stream",
     "text": [
      "<!DOCTYPE html>\n",
      "<html lang=\"en\">\n",
      " <head>\n",
      "  <meta charset=\"utf-8\"/>\n",
      "  <meta content=\"IE=edge\" http-equiv=\"X-UA-Compatible\"/>\n",
      "  <meta content=\"width=device-width, initial-scale=1\" name=\"viewport\"/>\n",
      "  <meta content=\"noarchive\" name=\"robots\"/>\n",
      "  <meta content=\"AZLyrics\" name=\"name\"/>\n",
      "  <meta content=\"lyrics,music,song lyrics,songs,paroles\" name=\"keywords\"/>\n",
      "  <base href=\"//www.azlyrics.com\"/>\n",
      "  <script src=\"//www.azlyrics.com/external.js\" type=\"text/javascript\">\n",
      "  </script>\n",
      "  <title>\n",
      "   AZLyrics - Song Lyrics from A to Z\n",
      "  </title>\n",
      "  <link href=\"https://maxcdn.bootstrapcdn.com/bootstrap/3.3.4/css/bootstrap.min.css\" rel=\"stylesheet\"/>\n",
      "  <link href=\"//www.azlyrics.com/bsaz.css\" rel=\"stylesheet\"/>\n",
      "  <!-- HTML5 shim and Respond.js for IE8 support of HTML5 elements and media queries -->\n",
      "  <!--[if lt IE 9]>\r\n",
      "      <script src=\"https://oss.maxcdn.com/html5shiv/3.7.2/html5shiv.min.js\"></script>\r\n",
      "      <script src=\"https://oss.maxcdn.com/respond/1.4.2/respond.min.js\"></script>\r\n",
      "    <![endif]-->\n",
      "  <\n"
     ]
    }
   ],
   "source": [
    "#Preview the soup....MMMMMM SOUP :)\n",
    "print(soup.prettify()[:1000])"
   ]
  },
  {
   "cell_type": "markdown",
   "metadata": {},
   "source": [
    "### Inspecting the Web Page for Relevant Elements"
   ]
  },
  {
   "cell_type": "markdown",
   "metadata": {},
   "source": [
    "Here's the page itself:\n",
    "\n",
    "![](./images/home_page.png)"
   ]
  },
  {
   "cell_type": "markdown",
   "metadata": {},
   "source": [
    "## Parsing the DOM"
   ]
  },
  {
   "cell_type": "markdown",
   "metadata": {},
   "source": [
    "### soup.findAll()"
   ]
  },
  {
   "cell_type": "markdown",
   "metadata": {},
   "source": [
    "One common method we'll be use to navigate through the web page to extract information of interest is the soup.findAll() method.\n",
    "\n",
    "**Here's the docstring which you can bring up by typing (soup.findAll? [shift+enter])**  \n",
    "\n",
    "soup.findAll(name=None, attrs={}, recursive=True, text=None, limit=None, **kwargs)  \n",
    "\n",
    "Docstring:\n",
    "Extracts a list of Tag objects that match the given\n",
    "criteria.  You can specify the name of the Tag and any\n",
    "attributes you want the Tag to have.   \n",
    "\n",
    "The value of a key-value pair in the 'attrs' map can be a\n",
    "string, a list of strings, a regular expression object, or a\n",
    "callable that takes a string and returns whether or not the\n",
    "string matches for some custom definition of 'matches'. The\n",
    "same is true of the tag name."
   ]
  },
  {
   "cell_type": "code",
   "execution_count": 11,
   "metadata": {},
   "outputs": [
    {
     "data": {
      "text/plain": [
       "[<a class=\"btn btn-menu\" href=\"//www.azlyrics.com/y.html\">Y</a>,\n",
       " <a class=\"btn btn-menu\" href=\"//www.azlyrics.com/z.html\">Z</a>,\n",
       " <a class=\"btn btn-menu\" href=\"//www.azlyrics.com/19.html\">#</a>,\n",
       " <a href=\"/a/arianagrande.html#64292\"><img alt=\"\" src=\"/hot/64292.jpg\"/></a>,\n",
       " <a href=\"/a/arianagrande.html#64292\">Ariana Grande</a>,\n",
       " <a href=\"/c/cassmccombs.html#62717\"><img alt=\"\" src=\"/hot/62717.jpg\"/></a>,\n",
       " <a href=\"/c/cassmccombs.html#62717\">Cass McCombs</a>,\n",
       " <a href=\"/e/emarosa.html#63260\"><img alt=\"\" src=\"/hot/63260.jpg\"/></a>,\n",
       " <a href=\"/e/emarosa.html#63260\">Emarosa</a>,\n",
       " <a href=\"/h/henryjamison.html#65073\"><img alt=\"\" src=\"/hot/65073.jpg\"/></a>]"
      ]
     },
     "execution_count": 11,
     "metadata": {},
     "output_type": "execute_result"
    }
   ],
   "source": [
    "#Get all the hyperlinks on a page\n",
    "links = soup.findAll('a')\n",
    "links[25:35]"
   ]
  },
  {
   "cell_type": "markdown",
   "metadata": {},
   "source": [
    "## Lets pull one of the link pages and see what we can get!  \n",
    "**Notice that these are relative links that all refer to pages and subdirectories within the azlyrics domain.**  \n",
    "We'll have to be sure to account for this when pulling successive pages."
   ]
  },
  {
   "cell_type": "code",
   "execution_count": 30,
   "metadata": {},
   "outputs": [
    {
     "name": "stdout",
     "output_type": "stream",
     "text": [
      "<!DOCTYPE html>\n",
      "<html lang=\"en\">\n",
      " <head>\n",
      "  <meta charset=\"utf-8\"/>\n",
      "  <meta content=\"IE=edge\" http-equiv=\"X-UA-Compatible\"/>\n",
      "  <meta content=\"width=device-width, initial-scale=1\" name=\"viewport\"/>\n",
      "  <!-- The above 3 meta tags *must* come first in the head; any other head content must come *after* these tags -->\n",
      "  <meta content='Ariana Grande lyrics - 125 song lyrics sorted by album, including \"7 Rings (Remix)\", \"Grenade\", \"Stick Around\".' name=\"description\"/>\n",
      "  <meta content=\"Ariana Grande, Ariana Grande lyrics, discography, albums, songs\" name=\"keywords\"/>\n",
      "  <meta content=\"noarchive\" name=\"robots\"/>\n",
      "  <title>\n",
      "   Ariana Grande Lyrics\n",
      "  </title>\n",
      "  <link href=\"https://maxcdn.bootstrapcdn.com/bootstrap/3.3.4/css/bootstrap.min.css\" rel=\"stylesheet\"/>\n",
      "  <link href=\"//www.azlyrics.com/bsaz.css\" rel=\"stylesheet\"/>\n",
      "  <!-- HTML5 shim and Respond.js for IE8 support of HTML5 elements and media queries -->\n",
      "  <!--[if lt IE 9]>\r\n",
      "<script src=\"https://oss.maxcdn.com/html5shiv/3.7.2/html5shiv.min.js\"></\n"
     ]
    }
   ],
   "source": [
    "link = links[28]\n",
    "url_base = 'https://www.azlyrics.com/'\n",
    "url_ext = link.get('href')\n",
    "html_page = requests.get(url_base + url_ext)\n",
    "soup = BeautifulSoup(html_page.content, 'html.parser')\n",
    "print(soup.prettify()[:1000])"
   ]
  },
  {
   "cell_type": "markdown",
   "metadata": {},
   "source": [
    "### More parsing!\n",
    "Here's what the page looks like in a web browser:\n",
    "\n",
    "![](./images/artist_page.png)\n",
    "\n",
    "Now let's retrieve a list of the song pages as well as their assosciated albums!"
   ]
  },
  {
   "cell_type": "markdown",
   "metadata": {},
   "source": [
    "### Pulling out the Album Headers\n",
    "\n",
    "![](./images/artist_inspect.png)\n",
    "We want something more specific so let's look at the page itself.  \n",
    "Right click (windows)/ option + click (mac) on one of the album titles and go to **inspect**.  \n",
    "\n",
    "You should see something like this:\n",
    "![](./images/artist_inspect_detailed.png)\n",
    "\n",
    "Look at the details for the album header:  \n",
    "  \n",
    "  \n",
    "![](./images/inspect_div_detailed.png)\n",
    "It's a div container called 'album'! Let's use this to select the various albums from the page."
   ]
  },
  {
   "cell_type": "code",
   "execution_count": 31,
   "metadata": {},
   "outputs": [
    {
     "name": "stdout",
     "output_type": "stream",
     "text": [
      "Number of matches: 8\n",
      "Object type: <class 'bs4.element.ResultSet'>\n",
      "Preview of objects:\n",
      "[<div class=\"album\">album: <b>\"Yours Truly\"</b> (2013)</div>, <div class=\"album\">EP: <b>\"Christmas Kisses\"</b> (2013)</div>]\n"
     ]
    }
   ],
   "source": [
    "albums = soup.find_all(\"div\", class_=\"album\")\n",
    "print('Number of matches: {}'.format(len(albums)))\n",
    "print('Object type: {}'.format(type(albums)))\n",
    "print('Preview of objects:\\n{}'.format(albums[:2]))"
   ]
  },
  {
   "cell_type": "markdown",
   "metadata": {},
   "source": [
    "### Navigating the DOM Hierarchy\n",
    "![](./images/artist_song_inspect.png)\n",
    "Notice that under each of these album DIVs there are links for each of the songs.  \n",
    "These links aren't children of the div object in the page's structure (they could be but that's not how this website structured them.) Instead, they are siblings to the div element."
   ]
  },
  {
   "cell_type": "markdown",
   "metadata": {},
   "source": [
    "### Pulling out the Song Titles and Pages\n",
    "Let's start by taking a look at all of the hyperlinked siblings of the first album we found."
   ]
  },
  {
   "cell_type": "code",
   "execution_count": 32,
   "metadata": {},
   "outputs": [
    {
     "data": {
      "text/plain": [
       "[<a href=\"../lyrics/arianagrande/honeymoonavenue.html\" target=\"_blank\">Honeymoon Avenue</a>,\n",
       " <a href=\"../lyrics/arianagrande/babyi.html\" target=\"_blank\">Baby I</a>,\n",
       " <a href=\"../lyrics/arianagrande/rightthere.html\" target=\"_blank\">Right There</a>,\n",
       " <a href=\"../lyrics/arianagrande/tattooedheart.html\" target=\"_blank\">Tattooed Heart</a>,\n",
       " <a href=\"../lyrics/arianagrande/lovinit.html\" target=\"_blank\">Lovin' It</a>,\n",
       " <a href=\"../lyrics/arianagrande/piano.html\" target=\"_blank\">Piano</a>,\n",
       " <a href=\"../lyrics/arianagrande/daydreamin.html\" target=\"_blank\">Daydreamin'</a>,\n",
       " <a href=\"../lyrics/arianagrande/theway.html\" target=\"_blank\">The Way</a>,\n",
       " <a href=\"../lyrics/arianagrande/youllneverknow.html\" target=\"_blank\">You'll Never Know</a>,\n",
       " <a href=\"../lyrics/arianagrande/almostisneverenough.html\" target=\"_blank\">Almost Is Never Enough</a>,\n",
       " <a href=\"../lyrics/arianagrande/popularsong.html\" target=\"_blank\">Popular Song</a>,\n",
       " <a href=\"../lyrics/arianagrande/betterleftunsaid.html\" target=\"_blank\">Better Left Unsaid</a>,\n",
       " <a href=\"../lyrics/arianagrande/thewayspanglishversion.html\" target=\"_blank\">The Way (Spanglish Version)</a>,\n",
       " <a id=\"30692\"></a>,\n",
       " <a href=\"../lyrics/arianagrande/lastchristmas.html\" target=\"_blank\">Last Christmas</a>,\n",
       " <a href=\"../lyrics/arianagrande/loveiseverything.html\" target=\"_blank\">Love Is Everything</a>,\n",
       " <a href=\"../lyrics/arianagrande/snowincalifornia.html\" target=\"_blank\">Snow In California</a>,\n",
       " <a href=\"../lyrics/arianagrande/santababy.html\" target=\"_blank\">Santa Baby</a>,\n",
       " <a id=\"32955\"></a>,\n",
       " <a href=\"../lyrics/arianagrande/intro.html\" target=\"_blank\">Intro</a>,\n",
       " <a href=\"../lyrics/arianagrande/problem.html\" target=\"_blank\">Problem</a>,\n",
       " <a href=\"../lyrics/arianagrande/onelasttime.html\" target=\"_blank\">One Last Time</a>,\n",
       " <a href=\"../lyrics/arianagrande/whytry.html\" target=\"_blank\">Why Try</a>,\n",
       " <a href=\"../lyrics/arianagrande/breakfree.html\" target=\"_blank\">Break Free</a>,\n",
       " <a href=\"../lyrics/arianagrande/bestmistake.html\" target=\"_blank\">Best Mistake</a>,\n",
       " <a href=\"../lyrics/arianagrande/bemybaby.html\" target=\"_blank\">Be My Baby</a>,\n",
       " <a href=\"../lyrics/arianagrande/breakyourheartrightback.html\" target=\"_blank\">Break Your Heart Right Back</a>,\n",
       " <a href=\"../lyrics/arianagrande/lovemeharder.html\" target=\"_blank\">Love Me Harder</a>,\n",
       " <a href=\"../lyrics/arianagrande/justalittlebitofyourheart.html\" target=\"_blank\">Just A Little Bit Of Your Heart</a>,\n",
       " <a href=\"../lyrics/arianagrande/handsonme.html\" target=\"_blank\">Hands On Me</a>,\n",
       " <a href=\"../lyrics/arianagrande/myeverything.html\" target=\"_blank\">My Everything</a>,\n",
       " <a href=\"http://www.azlyrics.com/lyrics/jessiej/bangbang.html\" target=\"_blank\">Bang Bang</a>,\n",
       " <a href=\"../lyrics/arianagrande/only1.html\" target=\"_blank\">Only 1</a>,\n",
       " <a href=\"../lyrics/arianagrande/youdontknowme.html\" target=\"_blank\">You Don't Know Me</a>,\n",
       " <a href=\"../lyrics/arianagrande/cadillacsong.html\" target=\"_blank\">Cadillac Song</a>,\n",
       " <a href=\"../lyrics/arianagrande/tooclose.html\" target=\"_blank\">Too Close</a>,\n",
       " <a href=\"../lyrics/arianagrande/baby-i.html\" target=\"_blank\">Baby I</a>,\n",
       " <a id=\"40574\"></a>,\n",
       " <a href=\"../lyrics/arianagrande/intro457724.html\" target=\"_blank\">Intro</a>,\n",
       " <a href=\"../lyrics/arianagrande/wititthischristmas.html\" target=\"_blank\">Wit It This Christmas</a>,\n",
       " <a href=\"../lyrics/arianagrande/december.html\" target=\"_blank\">December</a>,\n",
       " <a href=\"../lyrics/arianagrande/notjustonchristmas.html\" target=\"_blank\">Not Just On Christmas</a>,\n",
       " <a href=\"../lyrics/arianagrande/truelove.html\" target=\"_blank\">True Love</a>,\n",
       " <a href=\"../lyrics/arianagrande/winterthings.html\" target=\"_blank\">Winter Things</a>,\n",
       " <a id=\"38799\"></a>,\n",
       " <a href=\"../lyrics/arianagrande/moonlight.html\" target=\"_blank\">Moonlight</a>,\n",
       " <a href=\"../lyrics/arianagrande/dangerouswoman.html\" target=\"_blank\">Dangerous Woman</a>,\n",
       " <a href=\"../lyrics/arianagrande/bealright.html\" target=\"_blank\">Be Alright</a>,\n",
       " <a href=\"../lyrics/arianagrande/intoyou.html\" target=\"_blank\">Into You</a>,\n",
       " <a href=\"../lyrics/arianagrande/sidetoside.html\" target=\"_blank\">Side To Side</a>,\n",
       " <a href=\"../lyrics/arianagrande/letmeloveyou.html\" target=\"_blank\">Let Me Love You</a>,\n",
       " <a href=\"../lyrics/arianagrande/greedy.html\" target=\"_blank\">Greedy</a>,\n",
       " <a href=\"../lyrics/arianagrande/leavemelonely.html\" target=\"_blank\">Leave Me Lonely</a>,\n",
       " <a href=\"../lyrics/arianagrande/everyday.html\" target=\"_blank\">Everyday</a>,\n",
       " <a href=\"../lyrics/arianagrande/sometimes.html\" target=\"_blank\">Sometimes</a>,\n",
       " <a href=\"../lyrics/arianagrande/idontcare.html\" target=\"_blank\">I Don't Care</a>,\n",
       " <a href=\"../lyrics/arianagrande/baddecisions.html\" target=\"_blank\">Bad Decisions</a>,\n",
       " <a href=\"../lyrics/arianagrande/touchit.html\" target=\"_blank\">Touch It</a>,\n",
       " <a href=\"../lyrics/arianagrande/knewbetterforeverboy.html\" target=\"_blank\">Knew Better / Forever Boy</a>,\n",
       " <a href=\"../lyrics/arianagrande/thinkinboutyou.html\" target=\"_blank\">Thinkin' Bout You</a>,\n",
       " <a href=\"../lyrics/arianagrande/focus.html\" target=\"_blank\">Focus</a>,\n",
       " <a href=\"../lyrics/arianagrande/steponup.html\" target=\"_blank\">Step On Up</a>,\n",
       " <a href=\"../lyrics/arianagrande/jasonssonggaveitaway.html\" target=\"_blank\">Jason's Song (Gave It Away)</a>,\n",
       " <a id=\"56921\"></a>,\n",
       " <a href=\"../lyrics/arianagrande/raindropsanangelcried.html\" target=\"_blank\">Raindrops (An Angel Cried)</a>,\n",
       " <a href=\"../lyrics/arianagrande/blazed.html\" target=\"_blank\">Blazed</a>,\n",
       " <a href=\"../lyrics/arianagrande/thelightiscoming.html\" target=\"_blank\">The Light Is Coming</a>,\n",
       " <a href=\"../lyrics/arianagrande/rem.html\" target=\"_blank\">R.E.M.</a>,\n",
       " <a href=\"../lyrics/arianagrande/godisawoman.html\" target=\"_blank\">God Is A Woman</a>,\n",
       " <a href=\"../lyrics/arianagrande/sweetener.html\" target=\"_blank\">Sweetener</a>,\n",
       " <a href=\"../lyrics/arianagrande/successful.html\" target=\"_blank\">Successful</a>,\n",
       " <a href=\"../lyrics/arianagrande/everytime.html\" target=\"_blank\">Everytime</a>,\n",
       " <a href=\"../lyrics/arianagrande/breathin.html\" target=\"_blank\">Breathin</a>,\n",
       " <a href=\"../lyrics/arianagrande/notearslefttocry.html\" target=\"_blank\">No Tears Left To Cry</a>,\n",
       " <a href=\"../lyrics/arianagrande/borderline.html\" target=\"_blank\">Borderline</a>,\n",
       " <a href=\"../lyrics/arianagrande/betteroff.html\" target=\"_blank\">Better Off</a>,\n",
       " <a href=\"../lyrics/arianagrande/goodnightngo.html\" target=\"_blank\">Goodnight N Go</a>,\n",
       " <a href=\"../lyrics/arianagrande/petedavidson.html\" target=\"_blank\">Pete Davidson</a>,\n",
       " <a href=\"../lyrics/arianagrande/getwellsoon.html\" target=\"_blank\">Get Well Soon</a>,\n",
       " <a id=\"64292\"></a>,\n",
       " <a href=\"../lyrics/arianagrande/imagine.html\" target=\"_blank\">imagine</a>,\n",
       " <a href=\"../lyrics/arianagrande/needy.html\" target=\"_blank\">needy</a>,\n",
       " <a href=\"../lyrics/arianagrande/nasa.html\" target=\"_blank\">NASA</a>,\n",
       " <a href=\"../lyrics/arianagrande/bloodline.html\" target=\"_blank\">bloodline</a>,\n",
       " <a href=\"../lyrics/arianagrande/fakesmile.html\" target=\"_blank\">fake smile</a>,\n",
       " <a href=\"../lyrics/arianagrande/badidea.html\" target=\"_blank\">bad idea</a>,\n",
       " <a href=\"../lyrics/arianagrande/makeup.html\" target=\"_blank\">make up</a>,\n",
       " <a href=\"../lyrics/arianagrande/ghostin.html\" target=\"_blank\">ghostin</a>,\n",
       " <a href=\"../lyrics/arianagrande/inmyhead.html\" target=\"_blank\">in my head</a>,\n",
       " <a href=\"../lyrics/arianagrande/7rings.html\" target=\"_blank\">7 Rings</a>,\n",
       " <a href=\"../lyrics/arianagrande/thankunext.html\" target=\"_blank\">thank u, next</a>,\n",
       " <a href=\"../lyrics/arianagrande/breakupwithyourgirlfriendimbored.html\" target=\"_blank\">break up with your girlfriend, i'm bored</a>,\n",
       " <a href=\"../lyrics/arianagrande/7ringsremix.html\" target=\"_blank\">7 Rings (Remix)</a>,\n",
       " <a href=\"../lyrics/arianagrande/alittlemorehomework.html\" target=\"_blank\">A Little More Homework</a>,\n",
       " <a href=\"../lyrics/arianagrande/abc.html\" target=\"_blank\">ABC</a>,\n",
       " <a href=\"http://www.azlyrics.com/lyrics/majorlazer/allmylove.html\" target=\"_blank\">All My Love</a>,\n",
       " <a href=\"../lyrics/arianagrande/beautyandthebeast.html\" target=\"_blank\">Beauty And The Beast</a>,\n",
       " <a href=\"../lyrics/arianagrande/boyfriendmaterial.html\" target=\"_blank\">Boyfriend Material</a>,\n",
       " <a href=\"../lyrics/arianagrande/brandnewyou.html\" target=\"_blank\">Brand New You</a>,\n",
       " <a href=\"../lyrics/arianagrande/daydreaming.html\" target=\"_blank\">Daydreaming</a>,\n",
       " <a href=\"../lyrics/arianagrande/dieinyourarms.html\" target=\"_blank\">Die In Your Arms</a>,\n",
       " <a href=\"../lyrics/arianagrande/doyouloveme.html\" target=\"_blank\">Do You Love Me</a>,\n",
       " <a href=\"../lyrics/arianagrande/dontdreamitsover.html\" target=\"_blank\">Don't Dream It's Over</a>,\n",
       " <a href=\"../lyrics/arianagrande/emotions.html\" target=\"_blank\">Emotions</a>,\n",
       " <a href=\"../lyrics/arianagrande/grenade.html\" target=\"_blank\">Grenade</a>,\n",
       " <a href=\"../lyrics/arianagrande/higher.html\" target=\"_blank\">Higher</a>,\n",
       " <a href=\"../lyrics/arianagrande/idontwanttobealoneforchristmas.html\" target=\"_blank\">I Don't Want To Be Alone For Christmas</a>,\n",
       " <a href=\"../lyrics/arianagrande/ihavenothing.html\" target=\"_blank\">I Have Nothing</a>,\n",
       " <a href=\"../lyrics/arianagrande/intoyouremix.html\" target=\"_blank\">Into You (Remix)</a>,\n",
       " <a href=\"../lyrics/arianagrande/introinterlude.html\" target=\"_blank\">Intro / Interlude</a>,\n",
       " <a href=\"../lyrics/arianagrande/knewbetterpartii.html\" target=\"_blank\">Knew Better Part II</a>,\n",
       " <a href=\"../lyrics/arianagrande/letitrain.html\" target=\"_blank\">Let It Rain</a>,\n",
       " <a href=\"../lyrics/arianagrande/lovethewayyoulie.html\" target=\"_blank\">Love The Way You Lie</a>,\n",
       " <a href=\"../lyrics/arianagrande/nobodydoesitbetter.html\" target=\"_blank\">Nobody Does It Better</a>,\n",
       " <a href=\"../lyrics/arianagrande/onelasttimeattendsmoi.html\" target=\"_blank\">One Last Time (Attends-Moi)</a>,\n",
       " <a href=\"../lyrics/arianagrande/onlygirlintheworld.html\" target=\"_blank\">Only Girl (In The World)</a>,\n",
       " <a href=\"../lyrics/arianagrande/pinkchampagne.html\" target=\"_blank\">Pink Champagne</a>,\n",
       " <a href=\"../lyrics/arianagrande/putyourheartsup.html\" target=\"_blank\">Put Your Hearts Up</a>,\n",
       " <a href=\"../lyrics/arianagrande/reflection.html\" target=\"_blank\">Reflection</a>,\n",
       " <a href=\"../lyrics/arianagrande/ridiculous.html\" target=\"_blank\">Ridiculous</a>,\n",
       " <a href=\"../lyrics/arianagrande/santatellme.html\" target=\"_blank\">Santa Tell Me</a>,\n",
       " <a href=\"../lyrics/arianagrande/somewhereovertherainbow.html\" target=\"_blank\">Somewhere Over The Rainbow</a>,\n",
       " <a href=\"../lyrics/arianagrande/stickaround.html\" target=\"_blank\">Stick Around</a>,\n",
       " <a href=\"../lyrics/arianagrande/suddenlyseymour.html\" target=\"_blank\">Suddenly Seymour</a>,\n",
       " <a href=\"../lyrics/arianagrande/suitcase.html\" target=\"_blank\">Suitcase</a>,\n",
       " <a href=\"../lyrics/arianagrande/thebeautywithinyou.html\" target=\"_blank\">The Beauty Within You</a>,\n",
       " <a href=\"../lyrics/arianagrande/theydontknow.html\" target=\"_blank\">They Don't Know</a>,\n",
       " <a href=\"../lyrics/arianagrande/vienna.html\" target=\"_blank\">Vienna</a>,\n",
       " <a href=\"../lyrics/arianagrande/voodoolove.html\" target=\"_blank\">Voodoo Love</a>,\n",
       " <a href=\"../lyrics/arianagrande/youremyonlyshawty.html\" target=\"_blank\">You're My Only Shawty</a>,\n",
       " <a href=\"../lyrics/arianagrande/zerotohero.html\" target=\"_blank\">Zero To Hero</a>]"
      ]
     },
     "execution_count": 32,
     "metadata": {},
     "output_type": "execute_result"
    }
   ],
   "source": [
    "album = albums[0]\n",
    "album.findNextSiblings('a')"
   ]
  },
  {
   "cell_type": "markdown",
   "metadata": {},
   "source": [
    "See anything we can use to seperate the songs out by album?!  \n",
    "\n",
    "One option is those \"id\" tags...the web page appears to be structured to have one of these at the end of a song list for a particular album.\n",
    "\n",
    "A second option would be to look at all of the previous song titles from the next album. Then all of the songs that were both after the first album and before the second album would be those that we're after!\n",
    "\n",
    "To be difficult, I'll choose the second method to demonstrate. I'll leave the other option for you as a challenge to practice on.\n",
    "\n",
    "This should also show you that web scraping can be messy, interactive and explorative; its often a process of analyzing a page, finding structure that you can leverage and iterating to retrieve the information you're after."
   ]
  },
  {
   "cell_type": "code",
   "execution_count": 35,
   "metadata": {},
   "outputs": [
    {
     "data": {
      "text/plain": [
       "[('Honeymoon Avenue',\n",
       "  '../lyrics/arianagrande/honeymoonavenue.html',\n",
       "  'album: \"Yours Truly\" (2013)'),\n",
       " ('Baby I',\n",
       "  '../lyrics/arianagrande/babyi.html',\n",
       "  'album: \"Yours Truly\" (2013)'),\n",
       " ('Right There',\n",
       "  '../lyrics/arianagrande/rightthere.html',\n",
       "  'album: \"Yours Truly\" (2013)'),\n",
       " ('Tattooed Heart',\n",
       "  '../lyrics/arianagrande/tattooedheart.html',\n",
       "  'album: \"Yours Truly\" (2013)'),\n",
       " (\"Lovin' It\",\n",
       "  '../lyrics/arianagrande/lovinit.html',\n",
       "  'album: \"Yours Truly\" (2013)'),\n",
       " ('Piano', '../lyrics/arianagrande/piano.html', 'album: \"Yours Truly\" (2013)'),\n",
       " (\"Daydreamin'\",\n",
       "  '../lyrics/arianagrande/daydreamin.html',\n",
       "  'album: \"Yours Truly\" (2013)'),\n",
       " ('The Way',\n",
       "  '../lyrics/arianagrande/theway.html',\n",
       "  'album: \"Yours Truly\" (2013)'),\n",
       " (\"You'll Never Know\",\n",
       "  '../lyrics/arianagrande/youllneverknow.html',\n",
       "  'album: \"Yours Truly\" (2013)'),\n",
       " ('Almost Is Never Enough',\n",
       "  '../lyrics/arianagrande/almostisneverenough.html',\n",
       "  'album: \"Yours Truly\" (2013)'),\n",
       " ('Popular Song',\n",
       "  '../lyrics/arianagrande/popularsong.html',\n",
       "  'album: \"Yours Truly\" (2013)'),\n",
       " ('Better Left Unsaid',\n",
       "  '../lyrics/arianagrande/betterleftunsaid.html',\n",
       "  'album: \"Yours Truly\" (2013)'),\n",
       " ('The Way (Spanglish Version)',\n",
       "  '../lyrics/arianagrande/thewayspanglishversion.html',\n",
       "  'album: \"Yours Truly\" (2013)'),\n",
       " ('', None, 'album: \"Yours Truly\" (2013)'),\n",
       " ('Last Christmas',\n",
       "  '../lyrics/arianagrande/lastchristmas.html',\n",
       "  'EP: \"Christmas Kisses\" (2013)'),\n",
       " ('Love Is Everything',\n",
       "  '../lyrics/arianagrande/loveiseverything.html',\n",
       "  'EP: \"Christmas Kisses\" (2013)'),\n",
       " ('Snow In California',\n",
       "  '../lyrics/arianagrande/snowincalifornia.html',\n",
       "  'EP: \"Christmas Kisses\" (2013)'),\n",
       " ('Santa Baby',\n",
       "  '../lyrics/arianagrande/santababy.html',\n",
       "  'EP: \"Christmas Kisses\" (2013)'),\n",
       " ('', None, 'EP: \"Christmas Kisses\" (2013)'),\n",
       " ('Intro',\n",
       "  '../lyrics/arianagrande/intro.html',\n",
       "  'album: \"My Everything\" (2014)')]"
      ]
     },
     "execution_count": 35,
     "metadata": {},
     "output_type": "execute_result"
    }
   ],
   "source": [
    "data = [] #Create a storage container\n",
    "for album_n in range(len(albums)):\n",
    "    #On the last album, we won't be able to look forward\n",
    "    if album_n == len(albums)-1:\n",
    "        cur_album = albums[album_n]\n",
    "        album_songs = cur_album.findNextSiblings('a')\n",
    "        for song in album_songs:\n",
    "            page = song.get('href')\n",
    "            title = song.text\n",
    "            album = cur_album.text\n",
    "            data.append((title, page, album))\n",
    "    else:\n",
    "        cur_album = albums[album_n]\n",
    "        next_album = albums[album_n+1]\n",
    "        saca = cur_album.findNextSiblings('a') #songs after current album\n",
    "        sbna = next_album.findPreviousSiblings('a') #songs before next album\n",
    "        album_songs = [song for song in saca if song in sbna] #album songs are those listed after the current album but before the next one!\n",
    "        for song in album_songs:\n",
    "            page = song.get('href')\n",
    "            title = song.text\n",
    "            album = cur_album.text\n",
    "            data.append((title, page, album))\n",
    "data[:20]"
   ]
  },
  {
   "cell_type": "code",
   "execution_count": 36,
   "metadata": {},
   "outputs": [
    {
     "name": "stdout",
     "output_type": "stream",
     "text": [
      "131 3\n"
     ]
    }
   ],
   "source": [
    "print(len(data), len(data[0]))"
   ]
  },
  {
   "cell_type": "markdown",
   "metadata": {},
   "source": [
    "### Storing Elements\n",
    "Let's start to clean everything up. To start let's create a Pandas DataFrame; a spreadsheet object similar to those from Microsoft Excel."
   ]
  },
  {
   "cell_type": "code",
   "execution_count": 37,
   "metadata": {},
   "outputs": [
    {
     "name": "stdout",
     "output_type": "stream",
     "text": [
      "131\n"
     ]
    },
    {
     "data": {
      "text/html": [
       "<div>\n",
       "<style scoped>\n",
       "    .dataframe tbody tr th:only-of-type {\n",
       "        vertical-align: middle;\n",
       "    }\n",
       "\n",
       "    .dataframe tbody tr th {\n",
       "        vertical-align: top;\n",
       "    }\n",
       "\n",
       "    .dataframe thead th {\n",
       "        text-align: right;\n",
       "    }\n",
       "</style>\n",
       "<table border=\"1\" class=\"dataframe\">\n",
       "  <thead>\n",
       "    <tr style=\"text-align: right;\">\n",
       "      <th></th>\n",
       "      <th>Song</th>\n",
       "      <th>Url_ext</th>\n",
       "      <th>Album</th>\n",
       "    </tr>\n",
       "  </thead>\n",
       "  <tbody>\n",
       "    <tr>\n",
       "      <th>0</th>\n",
       "      <td>Honeymoon Avenue</td>\n",
       "      <td>../lyrics/arianagrande/honeymoonavenue.html</td>\n",
       "      <td>album: \"Yours Truly\" (2013)</td>\n",
       "    </tr>\n",
       "    <tr>\n",
       "      <th>1</th>\n",
       "      <td>Baby I</td>\n",
       "      <td>../lyrics/arianagrande/babyi.html</td>\n",
       "      <td>album: \"Yours Truly\" (2013)</td>\n",
       "    </tr>\n",
       "    <tr>\n",
       "      <th>2</th>\n",
       "      <td>Right There</td>\n",
       "      <td>../lyrics/arianagrande/rightthere.html</td>\n",
       "      <td>album: \"Yours Truly\" (2013)</td>\n",
       "    </tr>\n",
       "    <tr>\n",
       "      <th>3</th>\n",
       "      <td>Tattooed Heart</td>\n",
       "      <td>../lyrics/arianagrande/tattooedheart.html</td>\n",
       "      <td>album: \"Yours Truly\" (2013)</td>\n",
       "    </tr>\n",
       "    <tr>\n",
       "      <th>4</th>\n",
       "      <td>Lovin' It</td>\n",
       "      <td>../lyrics/arianagrande/lovinit.html</td>\n",
       "      <td>album: \"Yours Truly\" (2013)</td>\n",
       "    </tr>\n",
       "  </tbody>\n",
       "</table>\n",
       "</div>"
      ],
      "text/plain": [
       "               Song                                      Url_ext  \\\n",
       "0  Honeymoon Avenue  ../lyrics/arianagrande/honeymoonavenue.html   \n",
       "1            Baby I            ../lyrics/arianagrande/babyi.html   \n",
       "2       Right There       ../lyrics/arianagrande/rightthere.html   \n",
       "3    Tattooed Heart    ../lyrics/arianagrande/tattooedheart.html   \n",
       "4         Lovin' It          ../lyrics/arianagrande/lovinit.html   \n",
       "\n",
       "                         Album  \n",
       "0  album: \"Yours Truly\" (2013)  \n",
       "1  album: \"Yours Truly\" (2013)  \n",
       "2  album: \"Yours Truly\" (2013)  \n",
       "3  album: \"Yours Truly\" (2013)  \n",
       "4  album: \"Yours Truly\" (2013)  "
      ]
     },
     "execution_count": 37,
     "metadata": {},
     "output_type": "execute_result"
    }
   ],
   "source": [
    "df = pd.DataFrame(data) #Create a DataFrame from the data\n",
    "print(len(df)) #See how long the dataset is (number of rows)\n",
    "df.columns = ['Song', 'Url_ext', 'Album']\n",
    "df.head() #Preview the DataFrame (default is first 5 rows) "
   ]
  },
  {
   "cell_type": "markdown",
   "metadata": {},
   "source": [
    "### Cleaning Elements\n",
    "\n",
    "Here's where your knowledge of string methods will come in super handy! You can also use more complex selection rules with Regular Expressions using the re package. See https://docs.python.org/3/library/re.html for more details!"
   ]
  },
  {
   "cell_type": "code",
   "execution_count": 38,
   "metadata": {},
   "outputs": [
    {
     "data": {
      "text/html": [
       "<div>\n",
       "<style scoped>\n",
       "    .dataframe tbody tr th:only-of-type {\n",
       "        vertical-align: middle;\n",
       "    }\n",
       "\n",
       "    .dataframe tbody tr th {\n",
       "        vertical-align: top;\n",
       "    }\n",
       "\n",
       "    .dataframe thead th {\n",
       "        text-align: right;\n",
       "    }\n",
       "</style>\n",
       "<table border=\"1\" class=\"dataframe\">\n",
       "  <thead>\n",
       "    <tr style=\"text-align: right;\">\n",
       "      <th></th>\n",
       "      <th>Song</th>\n",
       "      <th>Url_ext</th>\n",
       "      <th>Album</th>\n",
       "    </tr>\n",
       "  </thead>\n",
       "  <tbody>\n",
       "    <tr>\n",
       "      <th>0</th>\n",
       "      <td>Honeymoon Avenue</td>\n",
       "      <td>../lyrics/arianagrande/honeymoonavenue.html</td>\n",
       "      <td>\"Yours Truly\" (2013)</td>\n",
       "    </tr>\n",
       "    <tr>\n",
       "      <th>1</th>\n",
       "      <td>Baby I</td>\n",
       "      <td>../lyrics/arianagrande/babyi.html</td>\n",
       "      <td>\"Yours Truly\" (2013)</td>\n",
       "    </tr>\n",
       "    <tr>\n",
       "      <th>2</th>\n",
       "      <td>Right There</td>\n",
       "      <td>../lyrics/arianagrande/rightthere.html</td>\n",
       "      <td>\"Yours Truly\" (2013)</td>\n",
       "    </tr>\n",
       "    <tr>\n",
       "      <th>3</th>\n",
       "      <td>Tattooed Heart</td>\n",
       "      <td>../lyrics/arianagrande/tattooedheart.html</td>\n",
       "      <td>\"Yours Truly\" (2013)</td>\n",
       "    </tr>\n",
       "    <tr>\n",
       "      <th>4</th>\n",
       "      <td>Lovin' It</td>\n",
       "      <td>../lyrics/arianagrande/lovinit.html</td>\n",
       "      <td>\"Yours Truly\" (2013)</td>\n",
       "    </tr>\n",
       "  </tbody>\n",
       "</table>\n",
       "</div>"
      ],
      "text/plain": [
       "               Song                                      Url_ext  \\\n",
       "0  Honeymoon Avenue  ../lyrics/arianagrande/honeymoonavenue.html   \n",
       "1            Baby I            ../lyrics/arianagrande/babyi.html   \n",
       "2       Right There       ../lyrics/arianagrande/rightthere.html   \n",
       "3    Tattooed Heart    ../lyrics/arianagrande/tattooedheart.html   \n",
       "4         Lovin' It          ../lyrics/arianagrande/lovinit.html   \n",
       "\n",
       "                   Album  \n",
       "0   \"Yours Truly\" (2013)  \n",
       "1   \"Yours Truly\" (2013)  \n",
       "2   \"Yours Truly\" (2013)  \n",
       "3   \"Yours Truly\" (2013)  \n",
       "4   \"Yours Truly\" (2013)  "
      ]
     },
     "execution_count": 38,
     "metadata": {},
     "output_type": "execute_result"
    }
   ],
   "source": [
    "df['Album'] = df['Album'].map(lambda x: x.strip('album:')) #remove the initial \"album:\". Hopefully none of the actual names contain that!!\n",
    "df.head() #Preview updated results"
   ]
  },
  {
   "cell_type": "code",
   "execution_count": 39,
   "metadata": {},
   "outputs": [
    {
     "data": {
      "text/html": [
       "<div>\n",
       "<style scoped>\n",
       "    .dataframe tbody tr th:only-of-type {\n",
       "        vertical-align: middle;\n",
       "    }\n",
       "\n",
       "    .dataframe tbody tr th {\n",
       "        vertical-align: top;\n",
       "    }\n",
       "\n",
       "    .dataframe thead th {\n",
       "        text-align: right;\n",
       "    }\n",
       "</style>\n",
       "<table border=\"1\" class=\"dataframe\">\n",
       "  <thead>\n",
       "    <tr style=\"text-align: right;\">\n",
       "      <th></th>\n",
       "      <th>Song</th>\n",
       "      <th>Url_ext</th>\n",
       "      <th>Album</th>\n",
       "      <th>Year</th>\n",
       "    </tr>\n",
       "  </thead>\n",
       "  <tbody>\n",
       "    <tr>\n",
       "      <th>0</th>\n",
       "      <td>Honeymoon Avenue</td>\n",
       "      <td>../lyrics/arianagrande/honeymoonavenue.html</td>\n",
       "      <td>\"Yours Truly\" (2013)</td>\n",
       "      <td>2013</td>\n",
       "    </tr>\n",
       "    <tr>\n",
       "      <th>1</th>\n",
       "      <td>Baby I</td>\n",
       "      <td>../lyrics/arianagrande/babyi.html</td>\n",
       "      <td>\"Yours Truly\" (2013)</td>\n",
       "      <td>2013</td>\n",
       "    </tr>\n",
       "    <tr>\n",
       "      <th>2</th>\n",
       "      <td>Right There</td>\n",
       "      <td>../lyrics/arianagrande/rightthere.html</td>\n",
       "      <td>\"Yours Truly\" (2013)</td>\n",
       "      <td>2013</td>\n",
       "    </tr>\n",
       "    <tr>\n",
       "      <th>3</th>\n",
       "      <td>Tattooed Heart</td>\n",
       "      <td>../lyrics/arianagrande/tattooedheart.html</td>\n",
       "      <td>\"Yours Truly\" (2013)</td>\n",
       "      <td>2013</td>\n",
       "    </tr>\n",
       "    <tr>\n",
       "      <th>4</th>\n",
       "      <td>Lovin' It</td>\n",
       "      <td>../lyrics/arianagrande/lovinit.html</td>\n",
       "      <td>\"Yours Truly\" (2013)</td>\n",
       "      <td>2013</td>\n",
       "    </tr>\n",
       "  </tbody>\n",
       "</table>\n",
       "</div>"
      ],
      "text/plain": [
       "               Song                                      Url_ext  \\\n",
       "0  Honeymoon Avenue  ../lyrics/arianagrande/honeymoonavenue.html   \n",
       "1            Baby I            ../lyrics/arianagrande/babyi.html   \n",
       "2       Right There       ../lyrics/arianagrande/rightthere.html   \n",
       "3    Tattooed Heart    ../lyrics/arianagrande/tattooedheart.html   \n",
       "4         Lovin' It          ../lyrics/arianagrande/lovinit.html   \n",
       "\n",
       "                   Album  Year  \n",
       "0   \"Yours Truly\" (2013)  2013  \n",
       "1   \"Yours Truly\" (2013)  2013  \n",
       "2   \"Yours Truly\" (2013)  2013  \n",
       "3   \"Yours Truly\" (2013)  2013  \n",
       "4   \"Yours Truly\" (2013)  2013  "
      ]
     },
     "execution_count": 39,
     "metadata": {},
     "output_type": "execute_result"
    }
   ],
   "source": [
    "def extract_year(album_title):\n",
    "    try:\n",
    "        return re.findall('[(](\\d\\d\\d\\d)[)]', album_title)[0]\n",
    "    except:\n",
    "        return 'Unknown'\n",
    "df['Year'] = df['Album'].map(extract_year)\n",
    "df.head()"
   ]
  },
  {
   "cell_type": "markdown",
   "metadata": {},
   "source": [
    "### Visualizing Results\n",
    "How many songs do we have for each album?"
   ]
  },
  {
   "cell_type": "code",
   "execution_count": 40,
   "metadata": {},
   "outputs": [],
   "source": [
    "%matplotlib inline \n",
    "#this allows us to use Pandas built in graphing within the notebook"
   ]
  },
  {
   "cell_type": "code",
   "execution_count": 41,
   "metadata": {},
   "outputs": [
    {
     "data": {
      "text/plain": [
       "other songs                       39\n",
       " \"Dangerous Woman\" (2016)         19\n",
       " \"My Everything\" (2014)           19\n",
       " \"Sweetener\" (2018)               16\n",
       " \"Yours Truly\" (2013)             14\n",
       " \"thank u, next\" (2019)           12\n",
       "EP: \"Christmas & Chill\" (2015)     7\n",
       "EP: \"Christmas Kisses\" (2013)      5\n",
       "Name: Album, dtype: int64"
      ]
     },
     "execution_count": 41,
     "metadata": {},
     "output_type": "execute_result"
    }
   ],
   "source": [
    "df.Album.value_counts()"
   ]
  },
  {
   "cell_type": "code",
   "execution_count": 43,
   "metadata": {},
   "outputs": [
    {
     "data": {
      "text/plain": [
       "<matplotlib.axes._subplots.AxesSubplot at 0x7fbae4862710>"
      ]
     },
     "execution_count": 43,
     "metadata": {},
     "output_type": "execute_result"
    },
    {
     "data": {
      "image/png": "[encoded data removed]",
      "text/plain": [
       "<Figure size 432x288 with 1 Axes>"
      ]
     },
     "metadata": {
      "needs_background": "light"
     },
     "output_type": "display_data"
    }
   ],
   "source": [
    "df.Album.value_counts().plot(kind='barh')"
   ]
  },
  {
   "cell_type": "markdown",
   "metadata": {},
   "source": [
    "### Cleaning it up: Adding a Title and Axes\n",
    "Here we import the pyplot class within the matplotlib package.  "
   ]
  },
  {
   "cell_type": "code",
   "execution_count": 44,
   "metadata": {},
   "outputs": [],
   "source": [
    "import matplotlib.pyplot as plt"
   ]
  },
  {
   "cell_type": "code",
   "execution_count": 45,
   "metadata": {},
   "outputs": [
    {
     "data": {
      "text/plain": [
       "Text(0,0.5,'Album Title')"
      ]
     },
     "execution_count": 45,
     "metadata": {},
     "output_type": "execute_result"
    },
    {
     "data": {
      "image/png": "[encoded data removed]",
      "text/plain": [
       "<Figure size 432x288 with 1 Axes>"
      ]
     },
     "metadata": {
      "needs_background": "light"
     },
     "output_type": "display_data"
    }
   ],
   "source": [
    "df.Album.value_counts().plot(kind='barh')\n",
    "plt.title('Number of Songs by Album')\n",
    "plt.xlabel('Number of Songs')\n",
    "plt.ylabel('Album Title')"
   ]
  },
  {
   "cell_type": "markdown",
   "metadata": {},
   "source": [
    "## Additional Resources\n",
    "\n",
    "#### Beatiful Soup - a good go to tool for parsing the DOM\n",
    "https://www.crummy.com/software/BeautifulSoup/?\n",
    "\n",
    "#### Selenium - Browser automation (useful when you need to interact with javascript for more complex scraping)\n",
    "https://www.seleniumhq.org/\n",
    "\n",
    "#### Scrapy - another package for scraping larger datasets at scale\n",
    "https://scrapy.org/"
   ]
  },
  {
   "cell_type": "markdown",
   "metadata": {},
   "source": [
    "## Summary\n",
    "You should now have a brief intro to web scraping! The possabilities are nearly endless with what you can do. That said, not all websites will be thrilled with your new prowess. Surfing the web at super human speeds will get you banned from many domains and may violate the terms & conditions of many websites that require login. As such, there are a few considerations you should take along your way.\n",
    "\n",
    "* Is there a terms and conditions for using the website?\n",
    "* Test your scraping bot on in small samples to debug before scaling to hundreds, thousands or millions of requests.\n",
    "* Start thinking about your IP address: getting blacklisted from a website is no fun. Consider using a VPN.\n",
    "* Slow your bot down! Add delays along the way with the time package. Specifically, time.sleep(seconds) adds wait time in a program."
   ]
  }
 ],
 "metadata": {
  "kernelspec": {
   "display_name": "Python 3",
   "language": "python",
   "name": "python3"
  },
  "language_info": {
   "codemirror_mode": {
    "name": "ipython",
    "version": 3
   },
   "file_extension": ".py",
   "mimetype": "text/x-python",
   "name": "python",
   "nbconvert_exporter": "python",
   "pygments_lexer": "ipython3",
   "version": "3.6.6"
  }
 },
 "nbformat": 4,
 "nbformat_minor": 2
}
